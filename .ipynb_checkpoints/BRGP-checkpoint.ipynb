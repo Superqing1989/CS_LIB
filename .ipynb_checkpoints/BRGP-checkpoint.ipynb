{
 "cells": [
  {
   "cell_type": "code",
   "execution_count": 3,
   "metadata": {},
   "outputs": [],
   "source": [
    "import numpy as np\n",
    "import math"
   ]
  },
  {
   "cell_type": "code",
   "execution_count": 4,
   "metadata": {},
   "outputs": [],
   "source": [
    "def cs_sp(y,Phi,K):    \n",
    "    residual=y  #初始化残差\n",
    "    (M,N) = Phi.shape\n",
    "    index = np.array([])\n",
    "    result=np.zeros((N,1))\n",
    "    for j in range(K):  #迭代次数\n",
    "        product=np.fabs(np.dot(Phi.T,residual))         # 计算投影\n",
    "        top_k_idx = product.argsort(axis=0)[-K:]        # 取最大的K个的序号\n",
    "        index = np.union1d(index,top_k_idx).astype(int) # 更新候选集\n",
    "        x = np.zeros((N,1))                             # 算一部分x\n",
    "        x_temp = np.dot(np.linalg.pinv(Phi[:,index]),y) # 最小二乘  \n",
    "        x[index] = x_temp                               # 放回去\n",
    "        index = np.fabs(x).argsort(axis=0)[-K:]         # 取最大的K个的序号\n",
    "        residual=y-np.dot(Phi,x)                        # 更新残差    \n",
    "        index = np.reshape(index,(K))\n",
    "    return  x, index"
   ]
  },
  {
   "cell_type": "code",
   "execution_count": 5,
   "metadata": {},
   "outputs": [],
   "source": [
    "def cs_omp(y,Phi,K):    \n",
    "    residual=y  #初始化残差\n",
    "    (M,N) = Phi.shape\n",
    "    index=np.zeros(N,dtype=int)\n",
    "    for i in range(N): #第i列被选中就是1，未选中就是-1\n",
    "        index[i]= -1\n",
    "    result=np.zeros((N,1))\n",
    "    for j in range(K):  #迭代次数\n",
    "        product=np.fabs(np.dot(Phi.T,residual))\n",
    "        pos=np.argmax(product)  #最大投影系数对应的位置        \n",
    "        index[pos]=1 #对应的位置取1\n",
    "        my=np.linalg.pinv(Phi[:,index>=0]) #最小二乘          \n",
    "        a=np.dot(my,y) #最小二乘,看参考文献1  \n",
    "        residual=y-np.dot(Phi[:,index>=0],a)\n",
    "    result[index>=0]=a\n",
    "    Candidate = np.where(index>=0) #返回所有选中的列\n",
    "    return  result, Candidate"
   ]
  },
  {
   "cell_type": "code",
   "execution_count": 285,
   "metadata": {},
   "outputs": [
    {
     "name": "stdout",
     "output_type": "stream",
     "text": [
      "(array([  2,   3,   4,   9,  11,  12,  22,  27,  31,  36,  38,  41,  46,\n",
      "        48,  51,  65,  66,  68,  71,  72,  76,  78,  81,  82,  84,  87,\n",
      "       101, 106, 127, 130, 134, 135, 141, 144, 147, 163, 166, 167, 168,\n",
      "       169, 170, 171, 174, 176, 186, 196, 201, 202, 210, 211, 214, 219,\n",
      "       240, 244, 251], dtype=int64),)\n",
      "0.5251728307420006\n",
      "[ 65  50 178 218 133 102  68 254 150 116  36  28 248  64 189  39 166 165\n",
      "  49 171 241  11 227 239 130 201 119 167  38 184 249 219  27 147  72 211\n",
      " 196 163 152 210  86 251 214   3 127  74   9  87  71  82 144 176 186  81\n",
      "  66]\n",
      "2.771171716431925e-15\n"
     ]
    }
   ],
   "source": [
    "# 单次实验\n",
    "N = 256\n",
    "M = 128\n",
    "K = 55\n",
    "# 生成稀疏信号（高斯）\n",
    "x = np.random.randn(N,1)\n",
    "x[:N-K]=0\n",
    "np.random.shuffle(x)\n",
    "# 生成高斯随机测量矩阵\n",
    "Phi=np.random.randn(M,N)/np.sqrt(M)\n",
    "# 观测信号\n",
    "y = np.dot(Phi,x)\n",
    "x_pre, Candidate_omp = cs_omp(y,Phi,K)\n",
    "print(Candidate_omp)\n",
    "error = np.linalg.norm(x-x_pre)/np.linalg.norm(x)\n",
    "print(error)\n",
    "x_pre, Candidate_sp = cs_sp(y,Phi,K)\n",
    "print(Candidate_sp)\n",
    "error = np.linalg.norm(x-x_pre)/np.linalg.norm(x)\n",
    "print(error)"
   ]
  },
  {
   "cell_type": "code",
   "execution_count": 286,
   "metadata": {},
   "outputs": [
    {
     "data": {
      "text/plain": [
       "(31,)"
      ]
     },
     "execution_count": 286,
     "metadata": {},
     "output_type": "execute_result"
    }
   ],
   "source": [
    "Candidate_BRGP = np.intersect1d(Candidate_omp, Candidate_sp)\n",
    "Candidate_BRGP.shape"
   ]
  },
  {
   "cell_type": "code",
   "execution_count": 287,
   "metadata": {},
   "outputs": [],
   "source": [
    "def cs_BRGP(y, Phi, K, Candidate): \n",
    "    u = 0.8\n",
    "    (M,N) = Phi.shape\n",
    "    \n",
    "    x = np.zeros((N,1))                            \n",
    "    x_temp = np.dot(np.linalg.pinv(Phi[:,Candidate]),y)\n",
    "    x[Candidate] = x_temp\n",
    "    r = y - np.dot(Phi,x)\n",
    "    Candidate_save = Candidate\n",
    "    r_save = r\n",
    "\n",
    "    temp = np.abs(np.dot(Phi.T,r))\n",
    "    max_value = max(temp)\n",
    "    F = np.where(temp>max_value*u)\n",
    "    Candidate = np.union1d(Candidate,F).astype(int)\n",
    "    x = np.zeros((N,1))                            \n",
    "    x_temp = np.dot(np.linalg.pinv(Phi[:,Candidate]),y)\n",
    "    x[Candidate] = x_temp\n",
    "    r = y - np.dot(Phi,x)\n",
    "    \n",
    "    while len(Candidate)<K:\n",
    "        dis = np.linalg.norm(r-r_save)\n",
    "        if dis < np.linalg.norm(y):\n",
    "            Candidate_save = Candidate\n",
    "            r_save = r \n",
    "            temp = np.abs(np.dot(Phi.T,r))\n",
    "            max_value = max(temp)\n",
    "            F = np.where(temp>max_value*u)\n",
    "            Candidate = np.union1d(Candidate,F).astype(int)\n",
    "        else:\n",
    "            Candidate = Candidate_save\n",
    "            r = r_save\n",
    "            Candidate_dif = np.setdiff1d(np.arange(0,K-1,K),Candidate)                            \n",
    "            temp = np.dot(np.linalg.pinv(Phi[:,Candidate_dif]),y)\n",
    "            F = np.where(temp==max(temp))\n",
    "            Candidate = np.union1d(Candidate,F).astype(int)\n",
    "        x = np.zeros((N,1))                            \n",
    "        x_temp = np.dot(np.linalg.pinv(Phi[:,Candidate]),y)\n",
    "        x[Candidate] = x_temp\n",
    "        r = y - np.dot(Phi,x)\n",
    "\n",
    "    \n",
    "    T = K\n",
    "    while T>0:  \n",
    "        product=np.fabs(np.dot(Phi.T,r))                # 计算投影\n",
    "        top_t_idx = product.argsort(axis=0)[-T:]        # 取最大的K个的序号\n",
    "        Candidate = np.union1d(Candidate,top_t_idx).astype(int) # 更新候选集\n",
    "        \n",
    "        x_temp = np.dot(np.linalg.pinv(Phi[:,Candidate]),y)# 最小二乘  \n",
    "        index = np.fabs(x_temp).argsort(axis=0)[-K:]\n",
    "        x_temp = x_temp[index]\n",
    "        Candidate = Candidate[index]\n",
    "        \n",
    "        x = np.zeros((N,1)) \n",
    "        x[Candidate] = x_temp\n",
    "        r=y-np.dot(Phi,x)                                   # 更新残差                      \n",
    "        T = T*0.8\n",
    "        T = np.floor(T).astype(int)\n",
    "    return x\n",
    "    "
   ]
  },
  {
   "cell_type": "code",
   "execution_count": 288,
   "metadata": {},
   "outputs": [
    {
     "data": {
      "text/plain": [
       "2.439962557886606e-15"
      ]
     },
     "execution_count": 288,
     "metadata": {},
     "output_type": "execute_result"
    }
   ],
   "source": [
    "x_pre = cs_BRGP(y,Phi,K, Candidate_BRGP)\n",
    "error = np.linalg.norm(x-x_pre)/np.linalg.norm(x)\n",
    "error"
   ]
  }
 ],
 "metadata": {
  "kernelspec": {
   "display_name": "Python 3",
   "language": "python",
   "name": "python3"
  },
  "language_info": {
   "codemirror_mode": {
    "name": "ipython",
    "version": 3
   },
   "file_extension": ".py",
   "mimetype": "text/x-python",
   "name": "python",
   "nbconvert_exporter": "python",
   "pygments_lexer": "ipython3",
   "version": "3.7.4"
  }
 },
 "nbformat": 4,
 "nbformat_minor": 4
}
